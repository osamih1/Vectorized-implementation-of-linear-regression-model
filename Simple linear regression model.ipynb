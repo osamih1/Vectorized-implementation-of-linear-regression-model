{
 "cells": [
  {
   "cell_type": "markdown",
   "id": "35558566",
   "metadata": {},
   "source": [
    "## 1- Importing the libraries"
   ]
  },
  {
   "cell_type": "code",
   "execution_count": 1,
   "id": "11a88118",
   "metadata": {},
   "outputs": [],
   "source": [
    "import numpy as np\n",
    "import matplotlib.pyplot as plt\n",
    "import pandas as pd\n",
    "import seaborn as sns\n",
    "# Visualizing the plots in the same notebook\n",
    "%matplotlib inline\n",
    "# In order to reproduce the code\n",
    "np.random.seed(0)"
   ]
  },
  {
   "cell_type": "markdown",
   "id": "68a5b9e2",
   "metadata": {},
   "source": [
    "## 2 - Importing the dataset"
   ]
  },
  {
   "cell_type": "code",
   "execution_count": 2,
   "id": "31c66829",
   "metadata": {},
   "outputs": [],
   "source": [
    "dataset = pd.read_csv('iris.csv')"
   ]
  },
  {
   "cell_type": "code",
   "execution_count": 3,
   "id": "5bcef1c5",
   "metadata": {},
   "outputs": [
    {
     "data": {
      "text/plain": [
       "(150, 5)"
      ]
     },
     "execution_count": 3,
     "metadata": {},
     "output_type": "execute_result"
    }
   ],
   "source": [
    "dataset.shape"
   ]
  },
  {
   "cell_type": "code",
   "execution_count": 4,
   "id": "1378df62",
   "metadata": {},
   "outputs": [
    {
     "data": {
      "text/html": [
       "<div>\n",
       "<style scoped>\n",
       "    .dataframe tbody tr th:only-of-type {\n",
       "        vertical-align: middle;\n",
       "    }\n",
       "\n",
       "    .dataframe tbody tr th {\n",
       "        vertical-align: top;\n",
       "    }\n",
       "\n",
       "    .dataframe thead th {\n",
       "        text-align: right;\n",
       "    }\n",
       "</style>\n",
       "<table border=\"1\" class=\"dataframe\">\n",
       "  <thead>\n",
       "    <tr style=\"text-align: right;\">\n",
       "      <th></th>\n",
       "      <th>sepal_length</th>\n",
       "      <th>sepal_width</th>\n",
       "      <th>petal_length</th>\n",
       "      <th>petal_width</th>\n",
       "      <th>class</th>\n",
       "    </tr>\n",
       "  </thead>\n",
       "  <tbody>\n",
       "    <tr>\n",
       "      <th>0</th>\n",
       "      <td>5.1</td>\n",
       "      <td>3.5</td>\n",
       "      <td>1.4</td>\n",
       "      <td>0.2</td>\n",
       "      <td>Iris-setosa</td>\n",
       "    </tr>\n",
       "    <tr>\n",
       "      <th>1</th>\n",
       "      <td>4.9</td>\n",
       "      <td>3.0</td>\n",
       "      <td>1.4</td>\n",
       "      <td>0.2</td>\n",
       "      <td>Iris-setosa</td>\n",
       "    </tr>\n",
       "    <tr>\n",
       "      <th>2</th>\n",
       "      <td>4.7</td>\n",
       "      <td>3.2</td>\n",
       "      <td>1.3</td>\n",
       "      <td>0.2</td>\n",
       "      <td>Iris-setosa</td>\n",
       "    </tr>\n",
       "    <tr>\n",
       "      <th>3</th>\n",
       "      <td>4.6</td>\n",
       "      <td>3.1</td>\n",
       "      <td>1.5</td>\n",
       "      <td>0.2</td>\n",
       "      <td>Iris-setosa</td>\n",
       "    </tr>\n",
       "    <tr>\n",
       "      <th>4</th>\n",
       "      <td>5.0</td>\n",
       "      <td>3.6</td>\n",
       "      <td>1.4</td>\n",
       "      <td>0.2</td>\n",
       "      <td>Iris-setosa</td>\n",
       "    </tr>\n",
       "  </tbody>\n",
       "</table>\n",
       "</div>"
      ],
      "text/plain": [
       "   sepal_length  sepal_width  petal_length  petal_width        class\n",
       "0           5.1          3.5           1.4          0.2  Iris-setosa\n",
       "1           4.9          3.0           1.4          0.2  Iris-setosa\n",
       "2           4.7          3.2           1.3          0.2  Iris-setosa\n",
       "3           4.6          3.1           1.5          0.2  Iris-setosa\n",
       "4           5.0          3.6           1.4          0.2  Iris-setosa"
      ]
     },
     "execution_count": 4,
     "metadata": {},
     "output_type": "execute_result"
    }
   ],
   "source": [
    "dataset.head()"
   ]
  },
  {
   "cell_type": "markdown",
   "id": "077e322e",
   "metadata": {},
   "source": [
    "## 3- Selecting a susbset of the original dataset"
   ]
  },
  {
   "cell_type": "code",
   "execution_count": 5,
   "id": "1f377c58",
   "metadata": {},
   "outputs": [],
   "source": [
    "data = dataset[['petal_length', 'petal_width']]"
   ]
  },
  {
   "cell_type": "code",
   "execution_count": 6,
   "id": "3f931266",
   "metadata": {},
   "outputs": [
    {
     "data": {
      "text/plain": [
       "(150, 2)"
      ]
     },
     "execution_count": 6,
     "metadata": {},
     "output_type": "execute_result"
    }
   ],
   "source": [
    "data.shape"
   ]
  },
  {
   "cell_type": "code",
   "execution_count": 7,
   "id": "2b82f104",
   "metadata": {},
   "outputs": [
    {
     "data": {
      "text/html": [
       "<div>\n",
       "<style scoped>\n",
       "    .dataframe tbody tr th:only-of-type {\n",
       "        vertical-align: middle;\n",
       "    }\n",
       "\n",
       "    .dataframe tbody tr th {\n",
       "        vertical-align: top;\n",
       "    }\n",
       "\n",
       "    .dataframe thead th {\n",
       "        text-align: right;\n",
       "    }\n",
       "</style>\n",
       "<table border=\"1\" class=\"dataframe\">\n",
       "  <thead>\n",
       "    <tr style=\"text-align: right;\">\n",
       "      <th></th>\n",
       "      <th>petal_length</th>\n",
       "      <th>petal_width</th>\n",
       "    </tr>\n",
       "  </thead>\n",
       "  <tbody>\n",
       "    <tr>\n",
       "      <th>0</th>\n",
       "      <td>1.4</td>\n",
       "      <td>0.2</td>\n",
       "    </tr>\n",
       "    <tr>\n",
       "      <th>1</th>\n",
       "      <td>1.4</td>\n",
       "      <td>0.2</td>\n",
       "    </tr>\n",
       "    <tr>\n",
       "      <th>2</th>\n",
       "      <td>1.3</td>\n",
       "      <td>0.2</td>\n",
       "    </tr>\n",
       "    <tr>\n",
       "      <th>3</th>\n",
       "      <td>1.5</td>\n",
       "      <td>0.2</td>\n",
       "    </tr>\n",
       "    <tr>\n",
       "      <th>4</th>\n",
       "      <td>1.4</td>\n",
       "      <td>0.2</td>\n",
       "    </tr>\n",
       "  </tbody>\n",
       "</table>\n",
       "</div>"
      ],
      "text/plain": [
       "   petal_length  petal_width\n",
       "0           1.4          0.2\n",
       "1           1.4          0.2\n",
       "2           1.3          0.2\n",
       "3           1.5          0.2\n",
       "4           1.4          0.2"
      ]
     },
     "execution_count": 7,
     "metadata": {},
     "output_type": "execute_result"
    }
   ],
   "source": [
    "data.head()"
   ]
  },
  {
   "cell_type": "code",
   "execution_count": 8,
   "id": "bd8d638f",
   "metadata": {},
   "outputs": [
    {
     "data": {
      "image/png": "[encoded data removed]",
      "text/plain": [
       "<Figure size 500x300 with 1 Axes>"
      ]
     },
     "metadata": {},
     "output_type": "display_data"
    }
   ],
   "source": [
    "plt.figure(figsize=(5,3))\n",
    "plt.scatter(data['petal_length'],data['petal_width'],marker='x')\n",
    "plt.xlabel('petal_length')\n",
    "plt.ylabel('petal_width')\n",
    "plt.title('petal_length VS petal width')\n",
    "plt.show()"
   ]
  },
  {
   "cell_type": "markdown",
   "id": "8e0b3b0a",
   "metadata": {},
   "source": [
    "## 4- The independent and the dependent variables"
   ]
  },
  {
   "cell_type": "code",
   "execution_count": 9,
   "id": "5b56aed8",
   "metadata": {},
   "outputs": [],
   "source": [
    "X = data['petal_length'].values.reshape(-1,1)\n",
    "y = data['petal_width'].values.reshape(-1,1)"
   ]
  },
  {
   "cell_type": "code",
   "execution_count": 10,
   "id": "6a375586",
   "metadata": {
    "scrolled": true
   },
   "outputs": [
    {
     "name": "stdout",
     "output_type": "stream",
     "text": [
      "(150, 1)\n",
      "(150, 1)\n"
     ]
    }
   ],
   "source": [
    "print(X.shape)\n",
    "print(y.shape)"
   ]
  },
  {
   "cell_type": "markdown",
   "id": "823e3158",
   "metadata": {},
   "source": [
    "# Simple linear regression model"
   ]
  },
  {
   "cell_type": "markdown",
   "id": "1373d77b",
   "metadata": {},
   "source": [
    "## 1- Initializing parameters"
   ]
  },
  {
   "cell_type": "code",
   "execution_count": 11,
   "id": "8f379f28",
   "metadata": {},
   "outputs": [],
   "source": [
    "def initializing_parameters(dim):\n",
    "    w = np.zeros((dim,1))\n",
    "    b = 0.\n",
    "    return w,b"
   ]
  },
  {
   "cell_type": "code",
   "execution_count": 12,
   "id": "fcad89f8",
   "metadata": {},
   "outputs": [],
   "source": [
    "w,b = initializing_parameters(X.shape[1])"
   ]
  },
  {
   "cell_type": "code",
   "execution_count": 13,
   "id": "1d485ccb",
   "metadata": {},
   "outputs": [
    {
     "name": "stdout",
     "output_type": "stream",
     "text": [
      "w= [[0.]]\n",
      "b= 0.0\n"
     ]
    }
   ],
   "source": [
    "print(f\"w= {w}\")\n",
    "print(f\"b= {b}\")"
   ]
  },
  {
   "cell_type": "markdown",
   "id": "32b5a26a",
   "metadata": {},
   "source": [
    "## 2- Defining the model"
   ]
  },
  {
   "cell_type": "code",
   "execution_count": 14,
   "id": "b780e381",
   "metadata": {},
   "outputs": [],
   "source": [
    "def model(w,b,X):\n",
    "    return np.dot(X,w.T) + b"
   ]
  },
  {
   "cell_type": "code",
   "execution_count": 15,
   "id": "c4319e6f",
   "metadata": {},
   "outputs": [
    {
     "data": {
      "image/png": "[encoded data removed]",
      "text/plain": [
       "<Figure size 500x300 with 1 Axes>"
      ]
     },
     "metadata": {},
     "output_type": "display_data"
    }
   ],
   "source": [
    "plt.figure(figsize=(5,3))\n",
    "plt.scatter(X,y,marker='x', label='training example')\n",
    "plt.plot(X, model(w,b,X),c='red', label='the initial model')\n",
    "plt.xlabel('pental_length')\n",
    "plt.ylabel('pental_width')\n",
    "plt.title('pental_length VS pental_width')\n",
    "plt.legend()\n",
    "plt.show()"
   ]
  },
  {
   "cell_type": "markdown",
   "id": "34465fec",
   "metadata": {},
   "source": [
    "## 3- Computing the cost function"
   ]
  },
  {
   "cell_type": "code",
   "execution_count": 16,
   "id": "a923b177",
   "metadata": {},
   "outputs": [],
   "source": [
    "def cost_function(w,b,X,y):\n",
    "    m = X.shape[0]\n",
    "    return 1/(2*m) * np.sum((model(w,b,X)-y)**2)"
   ]
  },
  {
   "cell_type": "code",
   "execution_count": 17,
   "id": "743c8ce3",
   "metadata": {},
   "outputs": [
    {
     "name": "stdout",
     "output_type": "stream",
     "text": [
      "1.0076666666666665\n"
     ]
    }
   ],
   "source": [
    "print(cost_function(w,b,X,y))"
   ]
  },
  {
   "cell_type": "markdown",
   "id": "b86085d2",
   "metadata": {},
   "source": [
    "## 4- The gradient descent"
   ]
  },
  {
   "cell_type": "code",
   "execution_count": 18,
   "id": "5336346a",
   "metadata": {},
   "outputs": [],
   "source": [
    "def gradient(w,b,X,y):\n",
    "    m = X.shape[0]\n",
    "    dj_dw = 1/m * np.dot(X.T,model(w,b,X)-y)\n",
    "    dj_db = 1/m * np.sum(model(w,b,X)-y)\n",
    "    return dj_dw, dj_db"
   ]
  },
  {
   "cell_type": "code",
   "execution_count": 19,
   "id": "8d2832fc",
   "metadata": {},
   "outputs": [],
   "source": [
    "def gradient_descent(w,b,X,y,learning_rate=0.01,epochs=1000):\n",
    "    history = []\n",
    "    for i in range(epochs):\n",
    "        dj_dw, dj_db = gradient(w,b,X,y)\n",
    "        w = w - learning_rate * dj_dw\n",
    "        b = b - learning_rate * dj_db\n",
    "        history.append(cost_function(w,b,X,y))\n",
    "    return w,b,history"
   ]
  },
  {
   "cell_type": "markdown",
   "id": "e098a752",
   "metadata": {},
   "source": [
    "## 5- Training the model"
   ]
  },
  {
   "cell_type": "code",
   "execution_count": 20,
   "id": "4733ebf3",
   "metadata": {},
   "outputs": [],
   "source": [
    "learning_rate = 0.01\n",
    "epochs = 1000\n",
    "w,b,history = gradient_descent(w,b,X,y,learning_rate, epochs)"
   ]
  },
  {
   "cell_type": "code",
   "execution_count": 21,
   "id": "e165fb98",
   "metadata": {},
   "outputs": [
    {
     "name": "stdout",
     "output_type": "stream",
     "text": [
      "w = [[0.39907509]]\n",
      "b = -0.2878444705121055\n"
     ]
    }
   ],
   "source": [
    "print(f\"w = {w}\")\n",
    "print(f\"b = {b}\")"
   ]
  },
  {
   "cell_type": "code",
   "execution_count": 22,
   "id": "c2f20c8a",
   "metadata": {},
   "outputs": [
    {
     "name": "stdout",
     "output_type": "stream",
     "text": [
      "Iteration   1: 0.6892720814748193\n",
      "Iteration  99: 0.03332366980593388\n",
      "Iteration 199: 0.029787698647092836\n",
      "Iteration 299: 0.02727836378599268\n",
      "Iteration 399: 0.025497590933988883\n",
      "Iteration 499: 0.02423384889637042\n",
      "Iteration 599: 0.023337022590956467\n",
      "Iteration 699: 0.022700581451752\n",
      "Iteration 799: 0.022248925070547945\n",
      "Iteration 899: 0.021928402913640663\n",
      "Iteration 999: 0.02170094138017441\n"
     ]
    }
   ],
   "source": [
    "print(f\"Iteration {1:3d}: {history[0]}\")\n",
    "for i in range(len(history)):\n",
    "    if (i+1)%100 == 0:\n",
    "        print(f\"Iteration {i:3d}: {history[i]}\")"
   ]
  },
  {
   "cell_type": "code",
   "execution_count": 23,
   "id": "b30b8239",
   "metadata": {},
   "outputs": [
    {
     "data": {
      "image/png": "[encoded data removed]",
      "text/plain": [
       "<Figure size 500x300 with 1 Axes>"
      ]
     },
     "metadata": {},
     "output_type": "display_data"
    }
   ],
   "source": [
    "plt.figure(figsize=(5,3))\n",
    "plt.scatter(X,y,marker='x',label='training example')\n",
    "plt.plot(X, model(w,b,X),c='red',label='the final model')\n",
    "plt.xlabel('pental_length')\n",
    "plt.ylabel('pental_width')\n",
    "plt.legend()\n",
    "plt.show()"
   ]
  },
  {
   "cell_type": "markdown",
   "id": "e09a63b8",
   "metadata": {},
   "source": [
    "## 6- The learning curve"
   ]
  },
  {
   "cell_type": "code",
   "execution_count": 24,
   "id": "ee41ee63",
   "metadata": {},
   "outputs": [
    {
     "data": {
      "image/png": "[encoded data removed]",
      "text/plain": [
       "<Figure size 640x480 with 1 Axes>"
      ]
     },
     "metadata": {},
     "output_type": "display_data"
    }
   ],
   "source": [
    "plt.plot(range(epochs),history)\n",
    "plt.xlabel('The number of iterations')\n",
    "plt.ylabel('The cost function')\n",
    "plt.show()"
   ]
  },
  {
   "cell_type": "markdown",
   "id": "a10878e8",
   "metadata": {},
   "source": [
    "## 7- Evaluating the model - Coefficient of determination"
   ]
  },
  {
   "cell_type": "code",
   "execution_count": 25,
   "id": "ce3d9791",
   "metadata": {},
   "outputs": [],
   "source": [
    "def coef_determination(w,b,X,y):\n",
    "    RSS = np.sum((y - model(w,b,X))**2)\n",
    "    TSS = np.sum((y - np.mean(y))**2)\n",
    "    return 1 - RSS/TSS"
   ]
  },
  {
   "cell_type": "code",
   "execution_count": 26,
   "id": "cfe655f4",
   "metadata": {},
   "outputs": [
    {
     "name": "stdout",
     "output_type": "stream",
     "text": [
      "0.9249792300116273\n"
     ]
    }
   ],
   "source": [
    "print(coef_determination(w,b,X,y))"
   ]
  }
 ],
 "metadata": {
  "kernelspec": {
   "display_name": "Python 3 (ipykernel)",
   "language": "python",
   "name": "python3"
  },
  "language_info": {
   "codemirror_mode": {
    "name": "ipython",
    "version": 3
   },
   "file_extension": ".py",
   "mimetype": "text/x-python",
   "name": "python",
   "nbconvert_exporter": "python",
   "pygments_lexer": "ipython3",
   "version": "3.10.9"
  }
 },
 "nbformat": 4,
 "nbformat_minor": 5
}
